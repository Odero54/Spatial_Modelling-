{
 "cells": [
  {
   "cell_type": "markdown",
   "id": "b36bfe1e-183d-4b2b-950d-fa5565f2266f",
   "metadata": {},
   "source": [
    "# <span style=\"color:Red\">Polygonize Rasters using Rioxarray and Geopandas..</span>\n",
    "\n",
    "Rioxarray is python library which combines xarray and rasterio library for raster analysis. Xarray is open source and python packages that makes working with labelled multi dimensional array very efficient. RasterIO is open source and python package based on gdal to read/write and analyze raster data. Rioxarray extends xarray with rasterio accessor.\n",
    "\n",
    "One of the advantage of xarray is that it can be integrated with Dask for parallel computing in local machines as well as in cluster machines. Well, there are lot of applications of rioxarray/xarray in raster domain.\n",
    "\n",
    "# <span style=\"color:green\">Raster Polygonize Algorithm..</span>\n",
    "\n",
    "\n",
    "    1. Read raster file using rioxarray.\n",
    "\n",
    "    2. Read raster file using rioxarray.\n",
    "\n",
    "    3. Create buffer polygon for every xy coordinates based on pixel size.\n",
    "\n",
    "    4. Perform union on all the polygons. "
   ]
  },
  {
   "cell_type": "markdown",
   "id": "99adf50e-a1df-456a-be59-379cc7cc7cb7",
   "metadata": {},
   "source": [
    "## <span style=\"color:green\">Load Required Packages.</span>"
   ]
  },
  {
   "cell_type": "code",
   "execution_count": 1,
   "id": "9f50516f-7c8c-4544-a57b-50f79b0ad4e8",
   "metadata": {},
   "outputs": [
    {
     "name": "stderr",
     "output_type": "stream",
     "text": [
      "C:\\Users\\Dell\\anaconda3\\envs\\GEE_Python\\lib\\site-packages\\geopandas\\_compat.py:124: UserWarning: The Shapely GEOS version (3.11.2-CAPI-1.17.2) is incompatible with the GEOS version PyGEOS was compiled with (3.10.3-CAPI-1.16.1). Conversions between both will be slow.\n",
      "  warnings.warn(\n",
      "C:\\Users\\Dell\\AppData\\Local\\Temp\\ipykernel_4224\\2564671462.py:3: DeprecationWarning: Shapely 2.0 is installed, but because PyGEOS is also installed, GeoPandas still uses PyGEOS by default. However, starting with version 0.14, the default will switch to Shapely. To force to use Shapely 2.0 now, you can either uninstall PyGEOS or set the environment variable USE_PYGEOS=0. You can do this before starting the Python process, or in your code before importing geopandas:\n",
      "\n",
      "import os\n",
      "os.environ['USE_PYGEOS'] = '0'\n",
      "import geopandas\n",
      "\n",
      "In the next release, GeoPandas will switch to using Shapely by default, even if PyGEOS is installed. If you only have PyGEOS installed to get speed-ups, this switch should be smooth. However, if you are using PyGEOS directly (calling PyGEOS functions on geometries from GeoPandas), this will then stop working and you are encouraged to migrate from PyGEOS to Shapely 2.0 (https://shapely.readthedocs.io/en/latest/migration_pygeos.html).\n",
      "  import geopandas as gpd\n"
     ]
    },
    {
     "name": "stdout",
     "output_type": "stream",
     "text": [
      "Packages loaded successfully!\n"
     ]
    }
   ],
   "source": [
    "import numpy as np\n",
    "import pandas as pd\n",
    "import geopandas as gpd\n",
    "import rioxarray as rx\n",
    "from multiprocessing import Pool, cpu_count\n",
    "from shapely.ops import unary_union\n",
    "print(\"Packages loaded successfully!\")"
   ]
  },
  {
   "cell_type": "markdown",
   "id": "0552ca90-37c4-4f68-9468-ace27cf7c1e8",
   "metadata": {},
   "source": [
    "## <span style=\"color:green\">Create Union Function.</span>"
   ]
  },
  {
   "cell_type": "code",
   "execution_count": 2,
   "id": "d25d8442-f2be-4051-a72d-d7dbf146f7bb",
   "metadata": {},
   "outputs": [],
   "source": [
    "def union(x):\n",
    "    return unary_union(x)"
   ]
  },
  {
   "cell_type": "markdown",
   "id": "dae20683-53f4-4eda-bd3f-7276c1d0da8b",
   "metadata": {},
   "source": [
    "## <span style=\"color:green\">Reading Raster.</span>"
   ]
  },
  {
   "cell_type": "code",
   "execution_count": 3,
   "id": "9a2d055c-ddb2-46d5-91a3-019820fc3e67",
   "metadata": {},
   "outputs": [
    {
     "name": "stdout",
     "output_type": "stream",
     "text": [
      "Reading raster...\n",
      "\n"
     ]
    }
   ],
   "source": [
    "print(\"Reading raster...\\n\")\n",
    "rasterPath = \"C:/Users/Dell/OneDrive/Desktop/urban-green-spaces/Population/karura-neighborhood.tif\"\n",
    "population = rx.open_rasterio(rasterPath)"
   ]
  },
  {
   "cell_type": "code",
   "execution_count": null,
   "id": "8f724034-b106-48b1-a3db-d1e874bfe7fe",
   "metadata": {},
   "outputs": [],
   "source": []
  }
 ],
 "metadata": {
  "kernelspec": {
   "display_name": "Python 3 (ipykernel)",
   "language": "python",
   "name": "python3"
  },
  "language_info": {
   "codemirror_mode": {
    "name": "ipython",
    "version": 3
   },
   "file_extension": ".py",
   "mimetype": "text/x-python",
   "name": "python",
   "nbconvert_exporter": "python",
   "pygments_lexer": "ipython3",
   "version": "3.10.11"
  }
 },
 "nbformat": 4,
 "nbformat_minor": 5
}
